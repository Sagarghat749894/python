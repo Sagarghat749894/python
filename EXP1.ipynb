{
  "nbformat": 4,
  "nbformat_minor": 0,
  "metadata": {
    "colab": {
      "provenance": []
    },
    "kernelspec": {
      "name": "python3",
      "display_name": "Python 3"
    },
    "language_info": {
      "name": "python"
    }
  },
  "cells": [
    {
      "cell_type": "code",
      "execution_count": 2,
      "metadata": {
        "colab": {
          "base_uri": "https://localhost:8080/"
        },
        "id": "mZnQCOUJoJbS",
        "outputId": "37b8db5d-13c9-4a06-ae18-d39ee0359e00"
      },
      "outputs": [
        {
          "output_type": "stream",
          "name": "stdout",
          "text": [
            "H\n",
            "W\n",
            "Hello\n",
            "Hello John\n",
            "My name is John and I am 30 years old.\n"
          ]
        }
      ],
      "source": [
        "my_string = \"sagar ghat !\"\n",
        "print(my_string[0])\n",
        "print(my_string[7])\n",
        "print(my_string[0:5])\n",
        "greeting = \"Hello\"\n",
        "name = \"John\"\n",
        "full_greeting = greeting + \" \" + name\n",
        "print (full_greeting)\n",
        "age = 30\n",
        "print (f\"My name is {name} and I am {age} years old.\")\n"
      ]
    },
    {
      "cell_type": "code",
      "source": [
        "my_list = [\"infosys\", \"wipro\",\"tcs\"]\n",
        "print (my_list[0])\n",
        "print(my_list[2])\n",
        "print (my_list[0:2])\n",
        "my_list.append(\"ongc\")\n",
        "print(my_list)\n",
        "my_list.remove(\"tcs\")\n",
        "print(my_list)"
      ],
      "metadata": {
        "colab": {
          "base_uri": "https://localhost:8080/"
        },
        "id": "1IG7CSa5pwfH",
        "outputId": "00f09f2d-8cbd-4f7c-ef21-4f31d656ca00"
      },
      "execution_count": 4,
      "outputs": [
        {
          "output_type": "stream",
          "name": "stdout",
          "text": [
            "infosys\n",
            "tcs\n",
            "['infosys', 'wipro']\n",
            "['infosys', 'wipro', 'tcs', 'ongc']\n",
            "['infosys', 'wipro', 'ongc']\n"
          ]
        }
      ]
    },
    {
      "cell_type": "code",
      "source": [
        "my_dict = {\"name\": \"John\", \"age\": 30, \"country\": \"USA\"}\n",
        "print (my_dict[\"name\"])\n",
        "print (my_dict[\"age\"])\n",
        "my_dict[\"city\"] = \"New York\"\n",
        "print (my_dict)\n",
        "del my_dict [\"country\"]\n",
        "print (my_dict)\n"
      ],
      "metadata": {
        "colab": {
          "base_uri": "https://localhost:8080/"
        },
        "id": "9qnEL3ypqCBJ",
        "outputId": "8f4f3478-3b88-46fd-d918-d597cf2801ed"
      },
      "execution_count": 3,
      "outputs": [
        {
          "output_type": "stream",
          "name": "stdout",
          "text": [
            "John\n",
            "30\n",
            "{'name': 'John', 'age': 30, 'country': 'USA', 'city': 'New York'}\n",
            "{'name': 'John', 'age': 30, 'city': 'New York'}\n"
          ]
        }
      ]
    }
  ]
}