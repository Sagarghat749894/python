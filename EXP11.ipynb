{
  "nbformat": 4,
  "nbformat_minor": 0,
  "metadata": {
    "colab": {
      "provenance": []
    },
    "kernelspec": {
      "name": "python3",
      "display_name": "Python 3"
    },
    "language_info": {
      "name": "python"
    }
  },
  "cells": [
    {
      "cell_type": "code",
      "execution_count": null,
      "metadata": {
        "id": "wPw_oRup63au"
      },
      "outputs": [],
      "source": [
        "import numpy as np\n",
        "\n",
        "\n",
        "my_list = [1, 2, 3, 4, 5]\n",
        "\n",
        "my_array = np.array(my_list)\n",
        "\n",
        "print(\"NumPy array:\", my_array)\n"
      ]
    }
  ]
}