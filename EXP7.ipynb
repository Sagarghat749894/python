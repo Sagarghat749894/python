{
  "nbformat": 4,
  "nbformat_minor": 0,
  "metadata": {
    "colab": {
      "provenance": []
    },
    "kernelspec": {
      "name": "python3",
      "display_name": "Python 3"
    },
    "language_info": {
      "name": "python"
    }
  },
  "cells": [
    {
      "cell_type": "code",
      "execution_count": 1,
      "metadata": {
        "colab": {
          "base_uri": "https://localhost:8080/"
        },
        "id": "NWBQjVf04liD",
        "outputId": "6c37e1ed-17f0-4bb9-fc04-b3b4943d4dce"
      },
      "outputs": [
        {
          "output_type": "stream",
          "name": "stdout",
          "text": [
            "Collecting mysql-connector-python\n",
            "  Downloading mysql_connector_python-8.3.0-cp310-cp310-manylinux_2_17_x86_64.whl (21.5 MB)\n",
            "\u001b[2K     \u001b[90m━━━━━━━━━━━━━━━━━━━━━━━━━━━━━━━━━━━━━━━━\u001b[0m \u001b[32m21.5/21.5 MB\u001b[0m \u001b[31m41.0 MB/s\u001b[0m eta \u001b[36m0:00:00\u001b[0m\n",
            "\u001b[?25hInstalling collected packages: mysql-connector-python\n",
            "Successfully installed mysql-connector-python-8.3.0\n"
          ]
        }
      ],
      "source": [
        "pip install mysql-connector-python\n"
      ]
    },
    {
      "cell_type": "code",
      "source": [
        "import mysql.connector\n",
        "\n",
        "# Connect to the MySQL database\n",
        "conn = mysql.connector.connect(\n",
        "    host=\"localhost\",        # Change this to your MySQL server host\n",
        "    user=\"username\",         # Change this to your MySQL username\n",
        "    password=\"password\",     # Change this to your MySQL password\n",
        "    database=\"student_info\"  # Change this to the name of your database\n",
        ")\n",
        "\n",
        "# Close the connection\n",
        "conn.close()\n"
      ],
      "metadata": {
        "id": "UAck8wLX4oCz"
      },
      "execution_count": null,
      "outputs": []
    }
  ]
}